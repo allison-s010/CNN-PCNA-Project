version https://git-lfs.github.com/spec/v1
oid sha256:a828849e1986818a12080eea69f38718be13a9eda2770e077163ed6fa6f15805
size 1231323
