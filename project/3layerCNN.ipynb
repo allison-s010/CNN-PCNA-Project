version https://git-lfs.github.com/spec/v1
oid sha256:7c5f6b86b0453fe311eea2d236b682d3ba5cc91e1da4d789436f5147c99876ca
size 1392436
