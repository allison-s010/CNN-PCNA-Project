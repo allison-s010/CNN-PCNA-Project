version https://git-lfs.github.com/spec/v1
oid sha256:a9d6c9c613be7613cf1eae006528d6a10dc97842988ec88e87ffd55f845a10ec
size 1266023
